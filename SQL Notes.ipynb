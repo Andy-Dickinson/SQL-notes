{
 "cells": [
  {
   "cell_type": "markdown",
   "id": "1fa32746-6e1f-466b-8a59-9e63cfbb52b6",
   "metadata": {},
   "source": [
    "# <center><ins>SQL Notes</center></ins>"
   ]
  },
  {
   "cell_type": "markdown",
   "id": "382606b2-ab3d-4391-8dcf-b23c18d8af97",
   "metadata": {},
   "source": [
    "[Documentation Link](https://mariadb.com/kb/en/documentation/)"
   ]
  },
  {
   "cell_type": "markdown",
   "id": "44b4ddc5-a651-4207-adb9-c77c185d3787",
   "metadata": {},
   "source": [
    "[SQL **keywords**](https://www.w3schools.com/sql/sql_ref_keywords.asp)"
   ]
  },
  {
   "cell_type": "markdown",
   "id": "7033ae4b-6db1-4717-9b44-ff850c407a16",
   "metadata": {},
   "source": [
    "[List of **MySQL functions**](https://www.w3schools.com/sql/sql_ref_mysql.asp)"
   ]
  },
  {
   "cell_type": "markdown",
   "id": "aecbe7ed-ee96-469b-9029-05356462d622",
   "metadata": {},
   "source": [
    "[MySQL tutorials](https://www.mysqltutorial.org/mysql-basics/)"
   ]
  },
  {
   "cell_type": "markdown",
   "id": "122cb65a-f723-4711-bfc1-fb25a05c09b4",
   "metadata": {},
   "source": [
    "[W3Resource tutorials](https://www.w3resource.com/sql/tutorials.php)"
   ]
  },
  {
   "cell_type": "markdown",
   "id": "1d3e959e-7999-493e-9f8f-1d0fa5309ffc",
   "metadata": {},
   "source": [
    "### <center>REMEMBER to consider if null values exist and if so what is the effect!!!</center>"
   ]
  },
  {
   "cell_type": "markdown",
   "id": "ffdd68d1-1f76-4bad-b4ff-7e76005e775e",
   "metadata": {},
   "source": [
    "|<td colspan=3> <center><bold><h3>**Table of contents**<center>|||\n",
    "|---|:---|:---:|\n",
    "|**1.**|[**Overview and info**](#Overview-and-info)||\n",
    "|**2.**|[**Syntax**](#Syntax)|Comments<br>Select statement / nested selects<br>Union<br>Specify number of records to return|\n",
    "|**3.**|[**CASE expression**](#CASE-expression)|Similar to 'if-then-else'|\n",
    "|**4.**|[**NULL functions**](#NULL-functions)|IFNULL()<br>ISNULL()<br>COALESCE()|\n",
    "|**5.**|[**Aliases**](#Aliases)|Temporary name for columns and tables<br>Combine columns AS alias|\n",
    "|**6.**|[**Joins**](#Joins)|Inner join<br>Left join<br>Right join<br>Outter join<br>Self join|\n",
    "|**7.**|[**WHERE condition statement**](#WHERE-condition-statement)|AND / OR / XOR / NOT operators<br>IN operator - multiple values<br>BETWEEN operator - given range<br>EXISTS / ANY / ALL boolean operators<br>Test for NULL values|\n",
    "|**8.**|[**GROUP BY statement**](#GROUP-BY-statement)|Group result-set by one or more columns|\n",
    "|**9.**|[**HAVING clause**](#HAVING-clause)|Similar to where, but can use aggregate functions|\n",
    "|**10.**|[**ORDER BY statement**](#ORDER-BY-statement)|Sort result-set|\n",
    "|**11.**|[**Numeric Aggregate functions**](#Numeric-aggregate-functions)|Takes a list of values and returns just one<br>Min / Max / Count / Average /<br>Sum / Round|\n",
    "|**12.**|[**String functions**](#String-functions)|Length / Left / Right / Concat /<br>Replace / Substring|\n",
    "|**13.**|[**SQL Operators**](#SQL-Operators)|Arithmatic / Bitwise / Comparison /<br>Compound / Logical<br>operators\n",
    "|**14.**|[**LIKE Operator and Wildcards**](#LIKE-Operator-and-Wildcards)|Search for specific patterns|\n",
    "|**15.**|[**Sequences**](#Sequences)|Create sequence|\n",
    "|**16.**|[**Store procedures**](#Store-procedures)|Save and reuse SQL statements<br>(SELECT....WHERE...GROUP...ORDER...ect)|\n",
    "|**17.**|[**Database Operations**](#Database-Operations)|Connect to server<br>List / select databases<br>List tables<br>List table definitions / indexes<br>Dot notation<br>Create / delete database|\n",
    "|**18.**|[**Backups**](#Backups)|Create database backup|\n",
    "|**19.**|[**Tables**](#Tables)|Create / delete / clear tables<br>Create indexes<br>Alter table / column names|\n",
    "|**20.**|[**Manipulating tables**](#Manipulating-tables)|Insert new records<br>Copy data from one table to another<br>Modify records<br>Delete records|\n",
    "|**21.**|[**Views**](#Views)|Create / query / update / drop<br>views (virtual tables)|\n",
    "|**22.**|[**Constraints**](#Constraints)|Specify rules for and limit the<br>data that can go into a table<br>NOT NULL / UNIQUE / PRIMARY KEY<br>FOREIGN KEY / CHECK / DEFAULT / AUTO_INCREMENT<br>On update / delete reference_options|\n",
    "|**23.**|[**DCL**](#DCL)|Grant / Revoke|\n",
    "|**24.**|[**Data Types**](#Data-Types)|String / Numeric / Date and time<br>data types|"
   ]
  },
  {
   "cell_type": "markdown",
   "id": "5bdfb8f0-78d3-4d3c-9810-951e26937351",
   "metadata": {
    "tags": []
   },
   "source": [
    "### Overview and info"
   ]
  },
  {
   "cell_type": "markdown",
   "id": "e07247e1-d096-4eac-b81e-08d83e47579d",
   "metadata": {
    "jp-MarkdownHeadingCollapsed": true,
    "tags": []
   },
   "source": [
    "<ins>Relational database systems</ins> ensure the four <ins>**ACID**</ins> properties:  \n",
    "* **ATOMIC**  \n",
    "&ensp; - Each transaction is **“all or nothing”** – a transaction may fail, but if it does so it will fail completely rather than be partially completed.  \n",
    "* **CONSISTENT**  \n",
    "&ensp; - **No transaction can fail** in such a way **that constraints are violated.** Constraints include primary and foreign key rules.  \n",
    "* **ISOLATED**  \n",
    "&ensp; - Actions in one transaction will **not be visible** to another transaction.  \n",
    "* **DURABLE**  \n",
    "&ensp; - Once a **COMMIT** has been successful the **change is permanent.**  "
   ]
  },
  {
   "cell_type": "markdown",
   "id": "c3c77672-315a-46b1-ab31-dd7d11c96b7b",
   "metadata": {},
   "source": [
    "### What is SQL?  \n",
    "**Structured Query Language**  \n",
    "SQL is a **declarative language**. That is to say that each statement is interpreted in isolation so that it is not possible to construct a flow of control as is possible in Java or C#.  \n",
    "\n",
    "Used to communicate with a database:  \n",
    "* Select  \n",
    "* Create  \n",
    "* Insert  \n",
    "* Update  \n",
    "* Delete  "
   ]
  },
  {
   "cell_type": "markdown",
   "id": "2780ec51-3ddc-4207-a4d5-6c02b2342fc3",
   "metadata": {},
   "source": [
    "### SQL **components**  \n",
    "**DML** – Data Manipulation Language  \n",
    "- Change and access the data itself  \n",
    "- These statements let you get data out and put data in.  \n",
    "- You can change existing data  \n",
    "- Includes:  \n",
    "    * SELECT  \n",
    "    * INSERT \n",
    "    * UPDATE\n",
    "    * DELETE  \n",
    "**DDL** – Data Definition Language  \n",
    "- Creating and changing data structures  \n",
    "- Allows you to create and destroy tables  \n",
    "- Used to set up connections between tables  \n",
    "- You can create rules to prevent users doing dumb things  \n",
    "- Includes:  \n",
    "    * CREATE  \n",
    "    * ALTER  \n",
    "    * DROP  \n",
    "**DCL** – Data Control Language  \n",
    "- Allows users access  \n",
    "- You can set permissions so that different users have different levels of access  \n",
    "- Includes:  \n",
    "    * GRANT  \n",
    "    * REVOKE  \n",
    "**TCL** – Transaction Control Language  \n",
    "- Controlling transactions  \n",
    "- You can specify what happens when conflicts occur  \n",
    "- What should happen if you change the data while I am reading it  "
   ]
  },
  {
   "cell_type": "markdown",
   "id": "d6122842-69bb-48b2-8f3c-d40a578d16df",
   "metadata": {
    "jp-MarkdownHeadingCollapsed": true,
    "tags": []
   },
   "source": [
    "### **RDBMS**  \n",
    "\n",
    "RDBMS stands for **Relational Database Management System.** and is the **basis for SQL**, and for all modern database systems such as MS SQL Server, IBM DB2, Oracle, MySQL, and Microsoft Access.  \n",
    "\n",
    "The **data** in RDBMS is **stored in database <ins>objects</ins>** called **<ins>tables</ins>.**  \n",
    "A **table is** a **collection** of **related data entries** and it **consists of columns and rows.**  \n",
    "A database most often contains one or more tables. Each table is identified by a name.  \n",
    "\n",
    "Every table is broken up into smaller entities called **fields.**  \n",
    "A **field is a column in a table** that is designed to maintain specific information about every record in the table.  \n",
    "A column is a vertical entity in a table that contains all information associated with a specific field in a table.  \n",
    "\n",
    "A **record**, also called **a row**, is each individual entry that exists in a table.  "
   ]
  },
  {
   "cell_type": "markdown",
   "id": "f90559f5-4268-452a-8563-6c7af99afdc4",
   "metadata": {},
   "source": [
    "### **SQL keywords are NOT case sensitive**  \n",
    "Some database systems **require a semicolon** at the **end of each SQL statement.**  "
   ]
  },
  {
   "cell_type": "markdown",
   "id": "fa0d6336-8100-4623-91e3-380516edd333",
   "metadata": {},
   "source": [
    "### Some of The Most Important SQL Commands  \n",
    "**SELECT** - extracts data from a database  \n",
    "**UPDATE** - updates data in a database  \n",
    "**DELETE** - deletes data from a database  \n",
    "**INSERT INTO** - inserts new data into a database  \n",
    "**CREATE DATABASE** - creates a new database  \n",
    "**ALTER DATABASE** - modifies a database  \n",
    "**CREATE TABLE** - creates a new table  \n",
    "**ALTER TABLE** - modifies a table  \n",
    "**DROP TABLE** - deletes a table  \n",
    "**CREATE INDEX** - creates an index (search key)  \n",
    "**DROP INDEX** - deletes an index  "
   ]
  },
  {
   "cell_type": "markdown",
   "id": "e73cd316-673c-4d65-ada4-a202860433bf",
   "metadata": {},
   "source": [
    "[<p style=\"text-align: right;\">**⬆ Table of Contents ⬆**</p>](#SQL-Notes)"
   ]
  },
  {
   "cell_type": "markdown",
   "id": "6b4441d3-8a47-4c31-bd15-c49d3c10706d",
   "metadata": {},
   "source": [
    "---"
   ]
  },
  {
   "cell_type": "markdown",
   "id": "2d19f4dd-4342-4faa-9d6f-a7c3c5cf1db9",
   "metadata": {},
   "source": [
    "---"
   ]
  },
  {
   "cell_type": "markdown",
   "id": "2b8390a1-5e5e-44ed-8929-5777ddd1d371",
   "metadata": {},
   "source": [
    "### <center>Syntax</center>"
   ]
  },
  {
   "cell_type": "markdown",
   "id": "63ba9eae-d207-404f-9f0c-02f0c029faca",
   "metadata": {},
   "source": [
    "**Comments in SQL**  \n",
    "\n",
    "* Comments are not supported in Microsoft Access databases.  \n",
    "\n",
    "**Single line comment**  \n",
    "**`--`**  \n",
    "\n",
    "**Multi-line comment**  \n",
    "**`/*`**  \n",
    "**`...`**  \n",
    "**`...`**  \n",
    "**`*/`**  "
   ]
  },
  {
   "cell_type": "markdown",
   "id": "19d45143-6899-42c2-9458-9dd7474df5d0",
   "metadata": {},
   "source": [
    "---"
   ]
  },
  {
   "cell_type": "markdown",
   "id": "f6d453d9-34ce-4ac3-a142-8c0f27fc1d96",
   "metadata": {},
   "source": [
    "**SELECT statement**  \n",
    "\n",
    "**`SELECT column1, column2, ...`**  \n",
    "**`FROM table_name;`**  \n",
    "* Used to **select data from a database.**  \n",
    "* **DO NOT** use comma after column1 if only selecting one field  \n",
    "* The data returned is stored in a result table, called the **result-set.**  \n",
    "* **EVERY** SQL statement (as a whole), ends with **`;`**  \n",
    "* Perform an operation on columns as follows:  \n",
    "&emsp;&emsp;**`SELECT column1, column2/column3`**  &emsp;-- Divides column2 value by column3 value and displays in its own column.  \n",
    "    * Can also perform this with a value rather than another column.  \n",
    "    * Follow with **`AS new_column_name`** to rename the column in the result set.  \n",
    "    * Useful operations here include:  \n",
    "    * **`ROUND(column_name/1000, decimal_places)`**  -- example would return column_name in 1000's to stated decimal_places. Use negative decimal places to round to nearest 10, 1000 ect.    \n",
    "\n",
    "**Nested selects**  \n",
    "**`SELECT columnName, ...`**  \n",
    "**`FROM (SELECT columnName, ...`**  \n",
    "&emsp;&emsp;&emsp;**`FROM ...`**  \n",
    "&emsp;&emsp;&emsp;**`WHERE ...`**  \n",
    "&emsp;&emsp;&emsp;**`GROUP BY ...`**  \n",
    "&emsp;&emsp;&emsp;**`...)`**  \n",
    "**`WHERE ...`**  \n",
    "**`;`**  \n",
    "\n",
    "Select **ALL fields** availiable:  \n",
    "**`SELECT *`**  \n",
    "**`FROM table_name;`**  "
   ]
  },
  {
   "cell_type": "markdown",
   "id": "a61e21e6-35cb-4ed0-a673-016dda977fcd",
   "metadata": {},
   "source": [
    "---"
   ]
  },
  {
   "cell_type": "markdown",
   "id": "96b9588f-dc36-4204-9bb5-394892890e38",
   "metadata": {},
   "source": [
    "**SELECT DISTINCT (different) statement**  \n",
    "\n",
    "**`SELECT DISTINCT column1, column2, ...`**  \n",
    "**`FROM table_name;`**  \n",
    "* Returns only **distinct (different) values.**  \n",
    "* Note values which are duplicated in the table will still be returned, but only once.  "
   ]
  },
  {
   "cell_type": "markdown",
   "id": "8033cf4e-e52e-4297-99d9-d54c80e0b829",
   "metadata": {},
   "source": [
    "---"
   ]
  },
  {
   "cell_type": "markdown",
   "id": "01720a4e-800a-4575-8a40-9629c4fed3d3",
   "metadata": {},
   "source": [
    "**UNION operator**  \n",
    "\n",
    "**`SELECT column_name(s) FROM table1`**  \n",
    "**`WHERE...(optional)`**  \n",
    "**`UNION`**  \n",
    "**`SELECT column_name(s) FROM table2;`**  \n",
    "**`WHERE...(optional)`**  \n",
    "**`ORDER...(optional)`**  \n",
    "* Selects **only distinct** values by **default**.\n",
    "* Use keyword **`UNION ALL`** to **<u>ALLOW</u> duplicates**.  \n",
    "* Used to combine the result-set of two or more SELECT statements.  \n",
    "* Every SELECT statement within UNION must have the **same number of columns**.  \n",
    "* The columns must also have **similar data types**.  \n",
    "* The columns in every SELECT statement must also be in the **same order**.  "
   ]
  },
  {
   "cell_type": "markdown",
   "id": "84f8f8fd-9cc4-40c3-964d-b9d83b9bf0d9",
   "metadata": {},
   "source": [
    "---"
   ]
  },
  {
   "cell_type": "markdown",
   "id": "269939de-dc12-4ea4-992e-09637da9013c",
   "metadata": {},
   "source": [
    "**Specify <ins>number</ins> of records to return**  \n",
    "\n",
    "|**Database System**|**Syntax**|**Note**|\n",
    "|:---|:---|:---|\n",
    "|SQL Server / MS Access|`SELECT TOP number\\|percent column_name(s)`<br>`FROM table_name`<br>`WHERE condition;`|For %, enter percentage followed by keyword `PERCENT`<br>(rounds up to nearest whole number of records)|\n",
    "|MySQL|`SELECT column_name(s)`<br>`FROM table_name`<br>`WHERE condition`<br>`LIMIT number;`||\n",
    "|Oracle 12 Syntax|`SELECT column_name(s)`<br>`FROM table_name`<br>`ORDER BY column_name(s)`<br>`FETCH FIRST number ROWS ONLY;`||\n",
    "|Older Oracle Syntax|`SELECT column_name(s)`<br>`FROM table_name`<br>`WHERE ROWNUM <= number;`||\n",
    "|Older Oracle Syntax (with ORDER BY)|`SELECT *`<br>`FROM (SELECT column_name(s) FROM table_name ORDER BY column_name(s))`<br>`WHERE ROWNUM <= number;`||"
   ]
  },
  {
   "cell_type": "markdown",
   "id": "dfcc72fb-7d1a-467a-83b4-437d780e7a0f",
   "metadata": {},
   "source": [
    "[<p style=\"text-align: right;\">**⬆ Table of Contents ⬆**</p>](#SQL-Notes)"
   ]
  },
  {
   "cell_type": "markdown",
   "id": "af166f12-181f-4aaa-9428-caa7579771d2",
   "metadata": {},
   "source": [
    "---"
   ]
  },
  {
   "cell_type": "markdown",
   "id": "117af2bb-3440-4a2d-85a9-7ba26ca06ee0",
   "metadata": {},
   "source": [
    "#### CASE expression"
   ]
  },
  {
   "cell_type": "markdown",
   "id": "3a689c85-b801-4370-9ab4-93d95f4bc682",
   "metadata": {},
   "source": [
    "**`CASE`**  \n",
    "&emsp;&emsp;**`WHEN condition1 THEN result1`**  \n",
    "&emsp;&emsp;**`WHEN condition2 THEN result2`**  \n",
    "&emsp;&emsp;**`WHEN conditionN THEN resultN`**  \n",
    "&emsp;&emsp;**`ELSE result`**  \n",
    "**`END;`**  \n",
    "\n",
    "* Returns a value when the **first condition is met** (like an if-then-else statement).  \n",
    "* Once a condition is true, it will **stop reading and return the result**.  \n",
    "* If no conditions are true, it returns the value in the ELSE clause.  \n",
    "* If there is **no ELSE** part **and no conditions are true, it returns NULL**.  \n",
    "\n",
    "Using CASE with **SELECT**:  \n",
    "**`SELECT column(s)`**  \n",
    "**`CASE`**  \n",
    "&emsp;&emsp;**`WHEN ...THEN ...`**  \n",
    "&emsp;&emsp;**`ELSE ...`**  \n",
    "**`END AS result_column_name (optional)`**  \n",
    "**`FROM table_name;`**  \n",
    "\n",
    "Using CASE with **ORDER BY**:  \n",
    "**`SELECT column(s)`**  \n",
    "**`FROM table_name`**  \n",
    "**`ORDER BY`**  \n",
    "**`(CASE`**  \n",
    "&emsp;&emsp;**`WHEN ...THEN ...`**  \n",
    "&emsp;&emsp;**`ELSE ...`**  \n",
    "**`END);`**  "
   ]
  },
  {
   "cell_type": "markdown",
   "id": "0cf31468-b807-4940-914a-6ee45de203bd",
   "metadata": {},
   "source": [
    "[<p style=\"text-align: right;\">**⬆ Table of Contents ⬆**</p>](#SQL-Notes)"
   ]
  },
  {
   "cell_type": "markdown",
   "id": "039fccea-a1f7-4461-91b7-a59787094b24",
   "metadata": {},
   "source": [
    "---"
   ]
  },
  {
   "cell_type": "markdown",
   "id": "d162dabe-7554-4543-9634-a18defa16e79",
   "metadata": {},
   "source": [
    "#### NULL functions"
   ]
  },
  {
   "cell_type": "markdown",
   "id": "dd499e59-2e76-49d8-8360-7ec1bf6a8197",
   "metadata": {},
   "source": [
    "Usually used with SELECT statement.  \n",
    "Useful to use with mathmatical functions when NULL values would cause an error.  \n",
    "Or to replace NULL values / get non-null values.  \n",
    "**`SELECT column(s), NULL_function() AS ...`**  \n",
    "**`FROM table_name;`**  \n",
    "\n",
    "**`IFNULL(column_name/value, NULLreplacement_value)`**  \n",
    "* Returns the **first value if** the value is **NOT NULL**, and **otherwise** returns the **second value**.  \n",
    "* Always takes **2 arguments**.  \n",
    "\n",
    "**`ISNULL(expression)`**  \n",
    "* Takes 1 argument, returns **1 when NULL** and **0 when NOT NULL**.   \n",
    "\n",
    "**`COALESCE(column_name/value,...)`**  \n",
    "* Returns the **first NOT-NULL** value.\n",
    "* If **all values NULL**, returns **NULL**.  \n",
    "* No limit on values, evaluates in order passed left to right.  \n",
    "* At least **1 argument must be passed**.  "
   ]
  },
  {
   "cell_type": "markdown",
   "id": "5823ad2d-446c-49eb-9cd3-ca0b47e02a81",
   "metadata": {},
   "source": [
    "[<p style=\"text-align: right;\">**⬆ Table of Contents ⬆**</p>](#SQL-Notes)"
   ]
  },
  {
   "cell_type": "markdown",
   "id": "cf9dd759-8a90-4870-9f29-8de23fcbc189",
   "metadata": {},
   "source": [
    "---"
   ]
  },
  {
   "cell_type": "markdown",
   "id": "9be6108d-9fd6-4ac7-a3ae-5bdd69d03775",
   "metadata": {},
   "source": [
    "#### Aliases"
   ]
  },
  {
   "cell_type": "markdown",
   "id": "00b7e640-b7c9-4cad-9e43-69b9e99f6081",
   "metadata": {},
   "source": [
    "* Used to give a **table**, or a **column** in a table, a **temporary name**.  \n",
    "* Aliases are often used to make column names more readable.  \n",
    "* An alias **only exists for the duration of that query**.  \n",
    "* An alias is created with the **`AS`** keyword.  \n",
    "\n",
    "**Column syntax**  \n",
    "**`SELECT column_name AS alias_name`**  \n",
    "**`FROM table_name;`**  \n",
    "* Use **Square brackets** or **double quotes** if alias contains **spaces**  \n",
    "\n",
    "**Table syntax**  \n",
    "**`SELECT column_name(s)`**  \n",
    "**`FROM table_name AS alias_name;`** \n",
    "* Reference the table alias in the WHERE clause with a **\".\"** i.e. **`WHERE alias_name.columnName/condition...`**  \n",
    "* Can also be specified **WITHOUT** the **`AS`**  "
   ]
  },
  {
   "cell_type": "markdown",
   "id": "f046df08-72b7-428b-b2ce-10caff2ab10d",
   "metadata": {},
   "source": [
    "---"
   ]
  },
  {
   "cell_type": "markdown",
   "id": "fc8099f8-e9b7-41ef-88d9-ff024b60fb93",
   "metadata": {},
   "source": [
    "**Combine columns AS alias**  \n",
    "\n",
    "**`SELECT column_name(not combined), 1stColumn_toCombine + ', ' + 2ndColumn_toCombine + ' ' + ... AS alias_name`**  \n",
    "**`FROM table_name;`**  \n",
    "* Strings can be added in single quotes  \n",
    "\n",
    "**In MySQL use**  \n",
    "**`SELECT column_name(not combined), CONCAT(1stColumn_toCombine, ', ' , 2ndColumn_toCombine , ' ' , ... ) AS alias_name`**  \n",
    "**`FROM table_name;`**  \n",
    "\n",
    "**In Oracle use**  \n",
    "**`SELECT column_name(not combined), (1stColumn_toCombine || ', ' || 2ndColumn_toCombine || ' ' || ... ) AS alias_name`**  \n",
    "**`FROM table_name;`** "
   ]
  },
  {
   "cell_type": "markdown",
   "id": "28c6540e-9a25-465a-8a7d-33217e01944a",
   "metadata": {},
   "source": [
    "[<p style=\"text-align: right;\">**⬆ Table of Contents ⬆**</p>](#SQL-Notes)"
   ]
  },
  {
   "cell_type": "markdown",
   "id": "76f95531-6191-4b07-81bf-e8f357b0187d",
   "metadata": {},
   "source": [
    "---"
   ]
  },
  {
   "cell_type": "markdown",
   "id": "6f4a162d-e5e1-4af4-8d73-b6c8725c8e1b",
   "metadata": {},
   "source": [
    "#### Joins"
   ]
  },
  {
   "cell_type": "code",
   "execution_count": null,
   "id": "8c177139-e991-49c9-bec3-2e18ca7b2456",
   "metadata": {},
   "outputs": [],
   "source": [
    "select table.col\n",
    "from 1st_tablee\n",
    "join 2nd_table on 1st.col=2nd.col\n",
    "join 3rd_table on 1/2.col=3rd.col"
   ]
  },
  {
   "cell_type": "markdown",
   "id": "6e069208-b788-4322-a300-10927b55a152",
   "metadata": {},
   "source": [
    "* Used to join 2 or more tables together with matching values to obtain data stored across them.  \n",
    "* Joins can be chained to create more complex joins.  \n",
    "* Can chain joins in either of the following ways, both are equivalent:  \n",
    "\n",
    "1:  \n",
    "**`SELECT *`**  \n",
    "**`FROM A JOIN B JOIN C JOIN D;`**  \n",
    "\n",
    "2:  \n",
    "**`SELECT *`**  \n",
    "**`FROM ( ( A JOIN B ) JOIN C ) JOIN D;`**  \n",
    "\n",
    "\n",
    "![](https://www.sqlshack.com/wp-content/uploads/2019/10/word-image-6.png)  \n",
    "Above represented by:  \n",
    "`...`  \n",
    "`INNER JOIN orders`  \n",
    "`ON onlinecustomers.customerid = orders.customerid`  \n",
    "`INNER JOIN sales`  \n",
    "`ON orders.orderid = sales.orderid;` \n",
    "\n",
    "![](https://www.sqlshack.com/wp-content/uploads/2019/10/word-image-7.png)  \n",
    "Above represented by:  \n",
    "`...`  \n",
    "`INNER JOIN orders`  \n",
    "`ON onlinecustomers.customerid = orders.customerid`  \n",
    "`LEFT JOIN sales`  \n",
    "`ON orders.orderid = sales.orderid`  \n",
    "`WHERE sales.salesid IS NULL`  \n",
    "\n",
    "**JOIN Syntax**  \n",
    "**`SELECT table_name.column_names(s)`**  \n",
    "**`FROM table_name (left table)`**  \n",
    "**`join_type JOIN table_name (right table)`** &emsp;&emsp;&emsp;&emsp;&emsp;&emsp;&emsp;&emsp;&emsp;&emsp;&emsp;&emsp;&emsp;&emsp; **-- This line..**  \n",
    "**`ON left_table_name.column_name condition right_table_name.column_name`** &emsp;&emsp; **-- And this line, can be repeated to join left table to multiple tables/multiple joins**  \n",
    "**`WHERE.....`**  \n",
    "**`ORDER...`**  \n",
    "**`;`**  \n",
    "* **`WHERE`** and **`ORDER`** are not always used with joins, but when they are they come **AFTER** the join statement.  \n",
    "* **`ON`** statement is the column values to match from each table and where to join the tables.  \n",
    "* **`table_name`** in SELECT clause only required when columns are ambiguous and present in more than 1 table. Aliases can be used.    \n",
    "\n",
    "![](https://www.w3schools.com/sql/img_innerjoin.gif)   ![](https://www.w3schools.com/sql/img_leftjoin.gif)   ![](https://www.w3schools.com/sql/img_rightjoin.gif)   ![](https://www.w3schools.com/sql/img_fulljoin.gif)  \n",
    "\n",
    "**`join_types:`**  \n",
    "\n",
    "**(INNER) join**  \n",
    "* Keyword **`INNER JOIN`** OR **`JOIN`**.  \n",
    "* Returns records that have **matching** values in **both tables**.  \n",
    "\n",
    "**LEFT join**  \n",
    "* Keyword **`LEFT JOIN`** in some databases, keyword is **`RIGHT OUTER JOIN`**.    \n",
    "* Returns **all** records from the **left table** (nulls in right table results), and the **matched** records from the **right table**.   \n",
    "\n",
    "**RIGHT join**  \n",
    "* Keyword **`RIGHT JOIN`** in some databases, keyword is **`RIGHT OUTER JOIN`**.    \n",
    "* Returns **all** records from the **right table** (nulls in left table results), and the **matched** records from the **left table**.  \n",
    "\n",
    "**FULL OUTTER join**  \n",
    "* Keyword **`FULL OUTER JOIN`** OR **`FULL JOIN`** , both keywords are the same.  \n",
    "* Returns **all** records from **both left and right tables**, when there is a match the rows are joined. **When no match**, there will be **nulls in columns for other table**.    \n",
    "* Can potentially return **very large result-sets**.  \n",
    "* **NOT** supported by MySQL and SQLite.  "
   ]
  },
  {
   "cell_type": "markdown",
   "id": "dca75979-c993-4c65-803c-7c3d144462fb",
   "metadata": {},
   "source": [
    "**Self join**  \n",
    "\n",
    "**`SELECT column_name(s)`**  \n",
    "**`FROM table1 T1, table1 T2`**  \n",
    "**`WHERE condition;`**  \n",
    "* A self join is a regular join, but the table is joined with itself.  \n",
    "* Used where there is any relationship between rows stored in the same table.  "
   ]
  },
  {
   "cell_type": "markdown",
   "id": "81d6ad0e-a4a6-4e70-9a3a-d99cdbc5f214",
   "metadata": {},
   "source": [
    "[<p style=\"text-align: right;\">**⬆ Table of Contents ⬆**</p>](#SQL-Notes)"
   ]
  },
  {
   "cell_type": "markdown",
   "id": "be17a597-4fd4-4792-8176-f7e78ccce98c",
   "metadata": {},
   "source": [
    "---"
   ]
  },
  {
   "cell_type": "markdown",
   "id": "7c448685-f4de-4057-bbe3-a86b993d8410",
   "metadata": {},
   "source": [
    "#### WHERE condition statement  \n"
   ]
  },
  {
   "cell_type": "markdown",
   "id": "5cdcc471-7017-49ce-bc42-993a6e355fdd",
   "metadata": {},
   "source": [
    "**`SELECT column1, column2, ...`**  \n",
    "**`FROM table_name`**  \n",
    "**`WHERE condition;`**  \n",
    "* SQL requires **single quotes around <ins>text</ins> values** (most database systems will also allow double quotes). However, numeric fields should not be enclosed in quotes.  \n",
    "* Use parenthesis to form complex expressions.  \n",
    "* **`condition`** can be a field followed by an operator then a value to be present for returned records  \n",
    "&ensp; e.g. **`WHERE Country='Germany' AND (City='Berlin' OR City='München');`**  \n",
    "* The WHERE clause is not only used in SELECT statements, it is **also used in UPDATE, DELETE, etc.**  \n",
    "* **Cannot** be used with **aggregate functions** (functions which take a list of values and returns just one). If wanting **aggregate functions**, see **HAVING** clause.  \n",
    "* **Comparison operators can be used** in where clause.  "
   ]
  },
  {
   "cell_type": "markdown",
   "id": "b9c7decf-0606-4a23-9472-3480c3643bd5",
   "metadata": {},
   "source": [
    "WHERE clause can be combined with **`AND`**, **`OR`** , **`XOR`** and **`NOT`** operators.  \n",
    "\n",
    "**AND syntax**  \n",
    "**`SELECT column1, column2, ...`**  \n",
    "**`FROM table_name`**  \n",
    "**`WHERE condition1 AND condition2 AND condition3 ...;`**  \n",
    "\n",
    "**OR syntax**\n",
    "* **Inclusive** or \n",
    "\n",
    "**`SELECT column1, column2, ...`**  \n",
    "**`FROM table_name`**  \n",
    "**`WHERE condition1 OR condition2 OR condition3 ...;`**  \n",
    "\n",
    "**XOR syntax**  \n",
    "* **Exclusive** or  \n",
    "\n",
    "**`SELECT column1, column2, ...`**  \n",
    "**`FROM table_name`**  \n",
    "**`WHERE condition1 XOR condition2 XOR condition3 ...;`**\n",
    "\n",
    "**NOT syntax**  \n",
    "**`SELECT column1, column2, ...`**  \n",
    "**`FROM table_name`**  \n",
    "**`WHERE NOT condition;`**  \n",
    "\n",
    "---\n",
    "\n",
    "**IN operator**  \n",
    "**`SELECT column1, column2, ...`**  \n",
    "**`FROM table_name`**  \n",
    "**`WHERE column_name IN (value1, value2, ...);`**  \n",
    "* **Specify multiple values** in a WHERE clause.  \n",
    "* This is **faster** than **`OR`**  \n",
    "* Can be **preceeded** by **`NOT`** to negate.  **`WHERE column_name NOT IN (value1, value2, ...);`**  "
   ]
  },
  {
   "cell_type": "markdown",
   "id": "56b1f222-8a17-4266-be68-fa9e8a18d632",
   "metadata": {},
   "source": [
    "---"
   ]
  },
  {
   "cell_type": "markdown",
   "id": "7457c118-1474-4a2f-8bb1-a4a83552af6a",
   "metadata": {},
   "source": [
    "**BETWEEN operator**  \n",
    "**`SELECT column_name(s)`**  \n",
    "**`FROM table_name`**  \n",
    "**`WHERE column_name BETWEEN value1 AND value2;`**  \n",
    "* Selects values within a given range in WHERE clause.   \n",
    "* Values can be **numbers, text, or dates**.  \n",
    "* Operator is **inclusive**.  "
   ]
  },
  {
   "cell_type": "markdown",
   "id": "ac9d5c0b-2d07-462a-ade9-0135de82f402",
   "metadata": {},
   "source": [
    "---"
   ]
  },
  {
   "cell_type": "markdown",
   "id": "1b7c89ae-9e18-4065-8c9e-c631f9250368",
   "metadata": {},
   "source": [
    "**EXISTS operator**  \n",
    "\n",
    "**`SELECT column_name(s)`**  \n",
    "**`FROM table_name`**  \n",
    "**`WHERE EXISTS (SELECT column_name FROM table_name WHERE condition);`**  \n",
    "* Used to test for the existence of any record in a subquery.  \n",
    "* Returns **TRUE** if the subquery returns **one or more records**.  "
   ]
  },
  {
   "cell_type": "markdown",
   "id": "865597cf-5432-4191-a261-4dec89382c90",
   "metadata": {},
   "source": [
    "**ANY operator**  \n",
    "\n",
    "**`SELECT column_name(s)`**  \n",
    "**`FROM table_name`**  \n",
    "**`WHERE column_name operator ANY`**  \n",
    "&emsp;&emsp;**`(SELECT column_name`**  \n",
    "&emsp;&emsp;**`FROM table_name`**  \n",
    "&emsp;&emsp;**`WHERE condition);`**  \n",
    "* Returns a **boolean** value as a result  \n",
    "* Returns TRUE if ANY of the subquery values meet the condition  "
   ]
  },
  {
   "cell_type": "markdown",
   "id": "07329474-3fb7-4970-b8d4-57da32f83304",
   "metadata": {},
   "source": [
    "**ALL operator**  \n",
    "\n",
    "**`SELECT column_name(s)`**  \n",
    "**`FROM table_name`**  \n",
    "**`WHERE column_name operator ALL`**  \n",
    "&emsp;&emsp;**`(SELECT column_name`**  \n",
    "&emsp;&emsp;**`FROM table_name`**  \n",
    "&emsp;&emsp;**`WHERE condition);`**  \n",
    "\n",
    "When used with SELECT statement:  \n",
    "\n",
    "**`SELECT ALL column_name(s)`**  \n",
    "**`FROM table_name`**  \n",
    "**`WHERE condition;`**  \n",
    "* Returns a **boolean** value as a result  \n",
    "* Returns TRUE if ALL of the subquery values meet the condition  \n",
    "* Used with SELECT, WHERE and HAVING statements  "
   ]
  },
  {
   "cell_type": "markdown",
   "id": "66fe697b-c4bc-428a-8022-b137f4bcea76",
   "metadata": {},
   "source": [
    "**Test for NULL values**  \n",
    "\n",
    "**`SELECT column_names`**  \n",
    "**`FROM table_name`**  \n",
    "**`WHERE column_name IS NULL|IS NOT NULL;`**  \n",
    "* It is **not possible** to test for NULL values **with comparison operators.**  \n",
    "* A NULL value is different from a zero value or a field that contains spaces. A field with a NULL value is one that has been **left blank during record creation.**  "
   ]
  },
  {
   "cell_type": "markdown",
   "id": "a2907e2c-24eb-4a04-804c-0feafbf09859",
   "metadata": {},
   "source": [
    "[<p style=\"text-align: right;\">**⬆ Table of Contents ⬆**</p>](#SQL-Notes)"
   ]
  },
  {
   "cell_type": "markdown",
   "id": "a76da539-90a4-4251-ac1a-74b1bdc4a90a",
   "metadata": {},
   "source": [
    "---"
   ]
  },
  {
   "cell_type": "markdown",
   "id": "5fcda0eb-9d74-4967-8258-3f0752dee804",
   "metadata": {},
   "source": [
    "#### GROUP BY statement"
   ]
  },
  {
   "cell_type": "markdown",
   "id": "5c1fb20b-e2a5-4140-93a5-d9dc0b4790eb",
   "metadata": {},
   "source": [
    "**`SELECT column_name(s)`**  \n",
    "**`FROM table_name`**  \n",
    "**`WHERE condition`**  \n",
    "**`GROUP BY column_name(s)`**  \n",
    "**`ORDER BY column_name(s);`**  \n",
    "* Group the result-set by one or more columns.\n",
    "* Often used with aggregate functions (functions which take a list of values and returns just one) (COUNT(), MAX(), MIN(), SUM(), AVG()) (usually in the SELECT statement)  "
   ]
  },
  {
   "cell_type": "markdown",
   "id": "f55166f6-fad7-4978-b32f-25a834c647cc",
   "metadata": {},
   "source": [
    "[<p style=\"text-align: right;\">**⬆ Table of Contents ⬆**</p>](#SQL-Notes)"
   ]
  },
  {
   "cell_type": "markdown",
   "id": "7397a629-c21d-45b8-a024-795cbe382cc4",
   "metadata": {},
   "source": [
    "---"
   ]
  },
  {
   "cell_type": "markdown",
   "id": "796f60ac-8178-440b-8d1b-52e6cfb1f980",
   "metadata": {},
   "source": [
    "#### HAVING clause"
   ]
  },
  {
   "cell_type": "markdown",
   "id": "c057354e-6981-4dc1-b848-5890547cfe93",
   "metadata": {},
   "source": [
    "**`SELECT column_name(s)`**  \n",
    "**`FROM table_name`**  \n",
    "**`WHERE condition`**  \n",
    "**`GROUP BY column_name(s)`**  \n",
    "**`HAVING condition`**  \n",
    "**`ORDER BY column_name(s);`**  \n",
    "* Similar to WHERE, but can be used with **aggregate functions** (functions which take a list of values and returns just one)  \n",
    "* The HAVING clause was added to SQL because the WHERE keyword cannot be used with aggregate functions, e.g. HAVING COUNT(CustomerID) > 5;  "
   ]
  },
  {
   "cell_type": "markdown",
   "id": "94147426-6f84-48ae-b431-e0e3fa895fea",
   "metadata": {},
   "source": [
    "[<p style=\"text-align: right;\">**⬆ Table of Contents ⬆**</p>](#SQL-Notes)"
   ]
  },
  {
   "cell_type": "markdown",
   "id": "8831fe8b-a5d7-4268-973d-a41dbf666593",
   "metadata": {},
   "source": [
    "---"
   ]
  },
  {
   "cell_type": "markdown",
   "id": "14f40ac6-44af-4b41-99f4-f25a9b69bc38",
   "metadata": {},
   "source": [
    "#### ORDER BY statement"
   ]
  },
  {
   "cell_type": "markdown",
   "id": "2ba1086e-518b-4f87-aaa5-9eeeff9fd41a",
   "metadata": {},
   "source": [
    "**`SELECT column1, column2, ...`**  \n",
    "**`FROM table_name`**  \n",
    "**`WHERE condition`**  \n",
    "**`ORDER BY column1, column2, ... ASC|DESC;`**  \n",
    "* Used to **sort the result-set in ascending or descending order.**  \n",
    "* Sorts the records in **ascending order by default.**  \n",
    "* Sort by several columns in **different ascending or decending** order as follows:  \n",
    "&ensp; **`ORDER BY column1 ASC, column2 DESC;`**  "
   ]
  },
  {
   "cell_type": "markdown",
   "id": "acfaccdb-5832-4909-ac46-baf87069d992",
   "metadata": {},
   "source": [
    "[<p style=\"text-align: right;\">**⬆ Table of Contents ⬆**</p>](#SQL-Notes)"
   ]
  },
  {
   "cell_type": "markdown",
   "id": "0aea0a01-4165-4147-a764-8b1b1390821f",
   "metadata": {},
   "source": [
    "---"
   ]
  },
  {
   "cell_type": "markdown",
   "id": "9116a528-a04f-448f-ba43-3509b02ad66b",
   "metadata": {},
   "source": [
    "### Numeric aggregate functions"
   ]
  },
  {
   "cell_type": "markdown",
   "id": "e2def25e-0996-4bef-b6f1-2cab929c70f1",
   "metadata": {},
   "source": [
    "**Minimum value**  \n",
    "\n",
    "**`SELECT MIN(column_name)`**  \n",
    "**`FROM table_name`**  \n",
    "**`WHERE condition;`**  \n",
    "* Returns the smallest value of the selected column.  \n",
    "* **Rename returned column** using **`AS`**:  \n",
    "&ensp; **`SELECT MIN(column_name) AS NewColumn_name`**  "
   ]
  },
  {
   "cell_type": "markdown",
   "id": "fa60e28c-dbe2-4de7-b91e-b48c18068d77",
   "metadata": {},
   "source": [
    "**Maximum value**  \n",
    "\n",
    "**`SELECT MAX(column_name)`**  \n",
    "**`FROM table_name`**  \n",
    "**`WHERE condition;`**  \n",
    "* Returns the largest value of the selected column.  \n",
    "* **Rename returned column** using **`AS`**:  \n",
    "&ensp; **`SELECT MAX(column_name) AS NewColumn_name`**  "
   ]
  },
  {
   "cell_type": "markdown",
   "id": "09124755-d84a-4b2a-8516-faa12011da13",
   "metadata": {},
   "source": [
    "**COUNT**  \n",
    "\n",
    "**`SELECT COUNT(column_name)`**  \n",
    "**`FROM table_name`**  \n",
    "**`WHERE condition;`**  \n",
    "* Returns the **number of rows** that **matches** a specified criterion.  \n",
    "* **NULL** values are **not counted.**  "
   ]
  },
  {
   "cell_type": "markdown",
   "id": "f6fe956c-6961-41b7-9c81-dfe2c0f8b31b",
   "metadata": {},
   "source": [
    "**Average**  \n",
    "\n",
    "**`SELECT AVG(column_name)`**  \n",
    "**`FROM table_name`**  \n",
    "**`WHERE condition;`**  \n",
    "* Returns the **average value** of a **numeric column.**  \n",
    "* **NULL** values are **ignored.**  "
   ]
  },
  {
   "cell_type": "markdown",
   "id": "4fe59aba-883d-40a1-8d12-38be633ce341",
   "metadata": {},
   "source": [
    "**SUM**  \n",
    "\n",
    "**`SELECT SUM(column_name)`**  \n",
    "**`FROM table_name`**  \n",
    "**`WHERE condition;`**  \n",
    "* Returns the **total sum** of a **numeric column.**  \n",
    "* **NULL** values are **ignored.**  "
   ]
  },
  {
   "cell_type": "markdown",
   "id": "d579bb42-cee0-46b4-97e4-006236c9406e",
   "metadata": {},
   "source": [
    "**ROUND**  \n",
    "\n",
    "**`SELECT ROUND(number, decimals)`**  \n",
    "**`...`**  \n",
    "**`;`**  \n",
    "* **`decimals`** is optional, when not provided, an integer with no decimals is returned.  \n",
    "* Use **negative** **`decimals`** to round to nearest 10, 1000 etc. e.g. -3 = nearest 1000  \n",
    "* **Rounds a number** to a specified number of decimal places.  \n",
    "* **`number`** can be a column which contains a numeric value.  "
   ]
  },
  {
   "cell_type": "markdown",
   "id": "85fd9c6c-22b4-4c1d-a73d-92b9eb29cd41",
   "metadata": {},
   "source": [
    "[<p style=\"text-align: right;\">**⬆ Table of Contents ⬆**</p>](#SQL-Notes)"
   ]
  },
  {
   "cell_type": "markdown",
   "id": "9e128780-06c1-4214-bb54-c52ea7e3314c",
   "metadata": {},
   "source": [
    "---"
   ]
  },
  {
   "cell_type": "markdown",
   "id": "ff0923f9-09a6-46a3-a0bf-d4412a949057",
   "metadata": {},
   "source": [
    "#### String functions"
   ]
  },
  {
   "cell_type": "markdown",
   "id": "d3a89ae9-3108-418d-a754-bc993ef5c191",
   "metadata": {},
   "source": [
    "**LENGTH**  \n",
    "\n",
    "**`SELECT LENGTH(string) AS 'Length of String'`**  \n",
    "**`...`**  \n",
    "**`;`**  \n",
    "* **`string`** can be a column name containing a string value.  \n",
    "* Returns the length of a string (in bytes).  "
   ]
  },
  {
   "cell_type": "markdown",
   "id": "214813de-3b47-452f-afc0-469ec7c1f09a",
   "metadata": {},
   "source": [
    "**LEFT**  \n",
    "\n",
    "**`SELECT LEFT(string, number_of_chars)`**  \n",
    "**`...`**  \n",
    "**`;`**  \n",
    "* Extracts a number of characters from a string (starting from left).  "
   ]
  },
  {
   "cell_type": "markdown",
   "id": "526d378f-0703-45ae-8462-196e958aeb39",
   "metadata": {},
   "source": [
    "**RIGHT**  \n",
    "\n",
    "**`SELECT RIGHT(string, number_of_chars)`**  \n",
    "**`...`**  \n",
    "**`;`**  \n",
    "* Extracts a number of characters from a string (starting from right).  "
   ]
  },
  {
   "cell_type": "markdown",
   "id": "39e35a5c-3a74-41dc-9bc0-a7374ade3e60",
   "metadata": {},
   "source": [
    "**CONCAT**  \n",
    "\n",
    "**`SELECT CONCAT('string1', 'string2'...) AS ConcatenatedString`**  \n",
    "**`...`**  \n",
    "**`;`**  \n",
    "* Joins strings into single output.  \n",
    "* **`string`** can be **columns** containing string values to combine columns. **Do not** include **`''`** when referring to columns.  \n",
    "* **`CONCAT_WS('seperator', 'string1', 'string2'...)`** can be used to combine with **`'seperator'**.  "
   ]
  },
  {
   "cell_type": "markdown",
   "id": "a4cc8adc-84c2-4e45-ba6c-f6936c3c3eb8",
   "metadata": {},
   "source": [
    "**REPLACE**  \n",
    "\n",
    "**`REPLACE(string, from_string, new_string)`**  \n",
    "* Replaces **`from_string`** components with **`new_string`** components of **`string`**  \n",
    "* **IS** casesensitive.  \n",
    "* Can be applied to entire columns e.g.   \n",
    "\n",
    "|column1|column2|column3|\n",
    "|:---|:---|:---|\n",
    "|aa|aa|c|\n",
    "|aa|AA|c|\n",
    "|aaba|aa|ccc|\n",
    "\n",
    "`SELECT REPLACE(column_name1, column_name2, column_name3) AS Replaced_values, column2, column3`  \n",
    "`FROM example;`  \n",
    "\n",
    "|Replaced_values|column2|column3|\n",
    "|:---|:---|:---|\n",
    "|c|aa|c|\n",
    "|aa|AA|c|\n",
    "|cccba|aa|ccc|\n",
    "\n",
    "   * Would replace those values in column_name1 which match column_name2 values with values from column_name3, note that the part of the values in column_name1 that do not match column_name2 would be left as they were. Also, because this is not part of a SELECT INTO or UPDATE statement, this would only affect the result-set.  "
   ]
  },
  {
   "cell_type": "markdown",
   "id": "4eb9c1f6-f90a-4900-9334-157b4079a513",
   "metadata": {},
   "source": [
    "**SUBSTRING**  \n",
    "\n",
    "**`SUBSTRING(string, start, number_of_characters)`**  \n",
    "* Extracts a substring from a string.  \n",
    "* **`string`** can be a column containing string values.  \n",
    "* **1st character** is when **`start`** = **1**...**NOT indexing**.  \n",
    "* Note 3rd argument is **`number_of_characters`** and not an index. This is also **optional**  \n",
    "* **`start`** can be **negative**, in which case it will count from the **end of the string**.  "
   ]
  },
  {
   "cell_type": "markdown",
   "id": "3b3d0d5d-62d1-4962-a6a1-2a3e92caf943",
   "metadata": {},
   "source": [
    "[<p style=\"text-align: right;\">**⬆ Table of Contents ⬆**</p>](#SQL-Notes)"
   ]
  },
  {
   "cell_type": "markdown",
   "id": "40297287-2f45-433b-8917-d9e75abfa779",
   "metadata": {},
   "source": [
    "---"
   ]
  },
  {
   "cell_type": "markdown",
   "id": "c589be4b-08a4-49cc-8fac-9d570dfc3657",
   "metadata": {},
   "source": [
    "#### SQL Operators"
   ]
  },
  {
   "cell_type": "markdown",
   "id": "6aa7341f-d1b3-457c-afb5-d9ba7162ce81",
   "metadata": {},
   "source": [
    "**Arithmetic Operators**  \n",
    "\n",
    "|Operator|Description|\n",
    "|:---:|:---:|\n",
    "|+|Add|\n",
    "|-|Subtract|\n",
    "|\\*|Multiply|\n",
    "|/|Divide|\n",
    "|%|Modulo|"
   ]
  },
  {
   "cell_type": "markdown",
   "id": "c72c8624-f52d-4461-b8e3-d60a8e20af6d",
   "metadata": {},
   "source": [
    "**Bitwise Operators**  \n",
    "\n",
    "|Operator|Description|\n",
    "|:---:|:---|\n",
    "|&|Bitwise AND|\n",
    "|\\||Bitwise OR|\n",
    "|^|Bitwise exclusive OR|"
   ]
  },
  {
   "cell_type": "markdown",
   "id": "b2f5711f-27fb-4fae-8439-091dc4c12713",
   "metadata": {},
   "source": [
    "**Comparison Operators**  \n",
    "\n",
    "|<center>Operator</center>|<center>Description</center>|\n",
    "|:---:|:---|\n",
    "|=|Equal|\n",
    "|>|Greater than|\n",
    "|<|Less than|\n",
    "|>=|Greater than or equal|\n",
    "|<=|Less than or equal|\n",
    "|<>|Not equal. Note: In some versions of SQL this operator may be written as !=|\n",
    "|BETWEEN|Between a certain range|\n",
    "|LIKE|Search for a pattern|\n",
    "|IN|To specify multiple possible values for a column|"
   ]
  },
  {
   "cell_type": "markdown",
   "id": "fba901c5-1f13-4f41-8961-641a24794e71",
   "metadata": {},
   "source": [
    "**Compound Operators**  \n",
    "\n",
    "|Operator|Description|\n",
    "|:---:|:---|\n",
    "|+=|Add equals|\n",
    "|-=|Subtract equals|\n",
    "|\\*=|Multiply equals|\n",
    "|/=|Divide equals|\n",
    "|%=|Modulo equals|\n",
    "|&=|Bitwise AND equals|\n",
    "|^-=|Bitwise exclusive equals|\n",
    "|\\|\\*=|Bitwise OR equals|\n"
   ]
  },
  {
   "cell_type": "markdown",
   "id": "94ad22c6-23a2-4454-ae4b-7d6547437bf7",
   "metadata": {},
   "source": [
    "**Logical Operators**  \n",
    "\n",
    "|Operator|Description|\n",
    "|:---:|:---|\n",
    "|ALL|TRUE if all of the subquery values meet the condition|\n",
    "|AND|TRUE if all the conditions separated by AND is TRUE|\n",
    "|ANY|TRUE if any of the subquery values meet the condition|\n",
    "|BETWEEN|TRUE if the operand is within the range of comparisons|\n",
    "|EXISTS|TRUE if the subquery returns one or more records|\n",
    "|IN|TRUE if the operand is equal to one of a list of expressions|\n",
    "|LIKE|TRUE if the operand matches a pattern|\n",
    "|NOT|Displays a record if the condition(s) is NOT TRUE|\n",
    "|OR|TRUE if any of the conditions separated by OR is TRUE|\n",
    "|SOME|TRUE if any of the subquery values meet the condition|"
   ]
  },
  {
   "cell_type": "markdown",
   "id": "717fc4f0-da15-4e4b-add9-f17078ba8e8c",
   "metadata": {},
   "source": [
    "[<p style=\"text-align: right;\">**⬆ Table of Contents ⬆**</p>](#SQL-Notes)"
   ]
  },
  {
   "cell_type": "markdown",
   "id": "29b6d7b0-d8ae-4920-943c-1b60989ccc62",
   "metadata": {},
   "source": [
    "---"
   ]
  },
  {
   "cell_type": "markdown",
   "id": "00ac7f31-62b2-449b-b3f0-fb508b44acbc",
   "metadata": {},
   "source": [
    "#### LIKE Operator and Wildcards"
   ]
  },
  {
   "cell_type": "markdown",
   "id": "cacc57b6-585d-4671-9aba-24a51a977ac4",
   "metadata": {},
   "source": [
    "**`SELECT column1, column2, ...`**  \n",
    "**`FROM table_name`**  \n",
    "**`WHERE column LIKE pattern;`**  \n",
    "* **`LIKE`** used in a **`WHERE`** clause to search for a specified pattern in a column.  \n",
    "* **Wildcards** used with **`LIKE`**.  \n",
    "* All the wildcards can also be used in combinations.  \n",
    "\n",
    "**Wildcard characters in MS Access:**  \n",
    "\n",
    "|**Symbol**|**Description**|**Example*.*|\n",
    "|:---:|:---:|:---|\n",
    "|**`*`**|Zero or more characters|**`bl*`** finds bl, black, blue, and blob|\n",
    "|**`?`**|A single character|**`h?t`** finds hot, hat, and hit|\n",
    "|**`[]`**|Any single character within the brackets|**`h[oa]t`** finds hot and hat, but not hit|\n",
    "|**`!`**|Any character not in the brackets|**`h[!oa]t`** finds hit, but not hot and hat|\n",
    "|**`-`**|Any single character within the specified range|**`c[a-b]t`** finds cat and cbt|\n",
    "|**`#`**|Any single numeric character|**`2#5`** finds 205, 215, 225, 235, 245, 255, 265, 275, 285, and 295|\n",
    "\n",
    "**Wildcard characters in SQL Server:**  \n",
    "\n",
    "|**Symbol**|**Description**|**Example**|\n",
    "|:---:|:---:|:---|\n",
    "|**`%`**|Zero or more characters|**`bl%`** finds bl, black, blue, and blob|\n",
    "|**`_`**|A single character|**`h_t`** finds hot, hat, and hit|\n",
    "|**`[]`**|Any single character within the brackets|**`h[oa]t`** finds hot and hat, but not hit|\n",
    "|**`^`**|Any character not in the brackets|**`h[^oa]t`** finds hit, but not hot and hat|\n",
    "|**`-`**|Any single character within the specified range|**`c[a-b]t`** finds cat and cbt|\n",
    "\n",
    "Examples showing different LIKE operators with `%` and `_` wildcards (SQL Server):  \n",
    "\n",
    "|LIKE Operator|Description|\n",
    "|:---|:---|\n",
    "|`WHERE CustomerName LIKE 'a%'`|Finds any values that start with \"a\"|\n",
    "|`WHERE CustomerName LIKE '%a'`|Finds any values that end with \"a\"|\n",
    "|`WHERE CustomerName LIKE '%or%'`|Finds any values that have \"or\" in any position|\n",
    "|`WHERE CustomerName LIKE '_r%'`|Finds any values that have \"r\" in the second position|\n",
    "|`WHERE CustomerName LIKE 'a_%'`|Finds any values that start with \"a\" and are at least 2 characters in length|\n",
    "|`WHERE CustomerName LIKE 'a__%'`|Finds any values that start with \"a\" and are at least 3 characters in length|\n",
    "|`WHERE ContactName LIKE 'a%o'`|Finds any values that start with \"a\" and ends with \"o\"|"
   ]
  },
  {
   "cell_type": "markdown",
   "id": "507ba05f-9ae5-4d78-98a3-300b1482e13a",
   "metadata": {},
   "source": [
    "[<p style=\"text-align: right;\">**⬆ Table of Contents ⬆**</p>](#SQL-Notes)"
   ]
  },
  {
   "cell_type": "markdown",
   "id": "5edb2f7d-26db-4a72-b5a4-69fc5b4e8583",
   "metadata": {},
   "source": [
    "---"
   ]
  },
  {
   "cell_type": "markdown",
   "id": "1f3cd21a-461b-4b98-8c9b-b40f7fbdf359",
   "metadata": {},
   "source": [
    "#### Sequences"
   ]
  },
  {
   "cell_type": "markdown",
   "id": "d5512b91-cc66-4cac-b0bc-a15962860e08",
   "metadata": {},
   "source": [
    "**`CREATE SEQUENCE sequence_name`**  \n",
    "**`START WITH initial_value`**  \n",
    "**`INCREMENT BY increment_value`**  \n",
    "**`MINVALUE minimum value`**  \n",
    "**`MAXVALUE maximum value`**  \n",
    "**`CACHE|NOCACHE`**  \n",
    "**`CYCLE|NOCYCLE`**  \n",
    "**`;`**  \n",
    "* When sequence reaches its set limit, If **`CYCLE`** is set, it starts from beginning.  \n",
    "* 2 attributes availiable, obtain with **`sequence_name.attribute`**:  \n",
    "    * **`NEXTVAL`** - generates a new value and the sequence is incremented.   \n",
    "    * **`CURRVAL`** - gives the most recent value generated, but the sequence is NOT incremented.  \n",
    "* Typically used with **INSERT** statment.  \n",
    "* Sequences can be dropped using the DROP SEQUENCE statement.  \n",
    "* Sequences can be altered with ALTER SEQUENCE.  "
   ]
  },
  {
   "cell_type": "markdown",
   "id": "f9fdcc2f-ea05-4a9b-8127-c6c0bd2153cf",
   "metadata": {},
   "source": [
    "[<p style=\"text-align: right;\">**⬆ Table of Contents ⬆**</p>](#SQL-Notes)"
   ]
  },
  {
   "cell_type": "markdown",
   "id": "0de59c89-b285-43c5-b9bb-c427fc0c4be8",
   "metadata": {},
   "source": [
    "---"
   ]
  },
  {
   "cell_type": "markdown",
   "id": "0838e5d0-9c4b-4afc-9ea3-4d579f4450aa",
   "metadata": {},
   "source": [
    "#### Store procedures"
   ]
  },
  {
   "cell_type": "markdown",
   "id": "ad52645b-93c7-4051-9aca-01138453e21a",
   "metadata": {},
   "source": [
    "**Stored procedures**  \n",
    "\n",
    "**`CREATE PROCEDURE procedure_name @parameter_name1 dataType(size), @parameter_name2 dataType(size)`**  \n",
    "**`AS`**  \n",
    "**`sql_statement`**  \n",
    "**`GO;`**  \n",
    "* Saves SQL statements (SELECT....WHERE...GROUP...ORDER...ect) which can be reused with a call.  \n",
    "* Parameters are optional. Separate multiple parameters with a comma.  \n",
    "\n",
    "&emsp;&emsp;&emsp;e.g:  \n",
    "&emsp;&emsp;&emsp;&emsp;**`CREATE PROCEDURE SelectAllCustomers @City nvarchar(30), @PostalCode nvarchar(10)`**  \n",
    "&emsp;&emsp;&emsp;&emsp;**`AS`**  \n",
    "&emsp;&emsp;&emsp;&emsp;**`SELECT * FROM Customers WHERE City = @City AND PostalCode = @PostalCode`**  \n",
    "&emsp;&emsp;&emsp;&emsp;**`GO;`**  "
   ]
  },
  {
   "cell_type": "markdown",
   "id": "0f8d515c-1ad7-4b54-939a-1c49efe35c51",
   "metadata": {},
   "source": [
    "**Execute a Stored Procedure**  \n",
    "\n",
    "**`EXEC procedure_name @parameter_name1 = value, @parameter_name2 = value;`**  \n",
    "\n",
    "&emsp;&emsp;&emsp;e.g:  \n",
    "&emsp;&emsp;&emsp;&emsp;**`EXEC SelectAllCustomers @City = 'London', @PostalCode = 'WA1 1DP';`**  "
   ]
  },
  {
   "cell_type": "markdown",
   "id": "6108b2ce-8d7a-4ef9-acb3-4cb4a52609e1",
   "metadata": {},
   "source": [
    "[<p style=\"text-align: right;\">**⬆ Table of Contents ⬆**</p>](#SQL-Notes)"
   ]
  },
  {
   "cell_type": "markdown",
   "id": "bd6c9aba-b326-417a-835a-ab1c465b7f01",
   "metadata": {},
   "source": [
    "---"
   ]
  },
  {
   "cell_type": "markdown",
   "id": "1a12653d-ee18-44d2-a80a-4a96df079f62",
   "metadata": {},
   "source": [
    "---"
   ]
  },
  {
   "cell_type": "markdown",
   "id": "293ffc19-ad92-4f6d-8c30-fbc1935731f0",
   "metadata": {},
   "source": [
    "### <center>Database Operations</center>  "
   ]
  },
  {
   "cell_type": "markdown",
   "id": "45f5d34a-8f3c-4d26-83f6-ca85f5f75e7f",
   "metadata": {},
   "source": [
    "**Connect to MySQL database server**  \n",
    "\n",
    "**`mysql -u username -p`**  "
   ]
  },
  {
   "cell_type": "markdown",
   "id": "e759c27b-6f3e-44e0-8cbf-7f5a4f250f5e",
   "metadata": {},
   "source": [
    "**List Databases**  \n",
    "\n",
    "**`SHOW DATABASES;`**  "
   ]
  },
  {
   "cell_type": "markdown",
   "id": "b8422904-005a-4ee1-b8b6-9815253fbeb2",
   "metadata": {},
   "source": [
    "**Select Database to work with**  \n",
    "\n",
    "**`USE database_name;`**  "
   ]
  },
  {
   "cell_type": "markdown",
   "id": "d1c3e18a-3167-4b9c-b7b6-d3bf814b572d",
   "metadata": {},
   "source": [
    "**List Tables**  \n",
    "\n",
    "**`SHOW TABLES;`**  "
   ]
  },
  {
   "cell_type": "markdown",
   "id": "c58f2a43-9f86-4ac1-a0cc-a9263a64a4af",
   "metadata": {},
   "source": [
    "**Show table definitions**  \n",
    "**`SHOW CREATE TABLE table_name;`**  \n",
    "* Lists table definition as it was created (including constraints).  "
   ]
  },
  {
   "cell_type": "markdown",
   "id": "5269248b-3319-48ee-aeb9-5e102db8a81b",
   "metadata": {},
   "source": [
    "**Display all indexes associated with table**  \n",
    "\n",
    "**`SHOW INDEX FROM table_name;`**  "
   ]
  },
  {
   "cell_type": "markdown",
   "id": "e29d7b53-870d-42ff-aac1-71b70905ce2a",
   "metadata": {},
   "source": [
    "**Refer to tables in another database**  \n",
    "\n",
    "**`SELECT * FROM database_name.table_name;`**  "
   ]
  },
  {
   "cell_type": "markdown",
   "id": "bd046556-b163-440a-996b-d6d49e5f1e09",
   "metadata": {},
   "source": [
    "**Create Database**  \n",
    "\n",
    "**`CREATE DATABASE databasename;`**  "
   ]
  },
  {
   "cell_type": "markdown",
   "id": "a2d52174-9bfe-467b-b6d7-b0cb4e32dd42",
   "metadata": {},
   "source": [
    "**Delete Database**    \n",
    "\n",
    "**`DROP DATABASE databasename;`**  \n",
    "* **Be careful** before dropping a database. Deleting a database will result in **loss of complete information** stored in the database.  "
   ]
  },
  {
   "cell_type": "markdown",
   "id": "58d7173b-8a20-4983-8d54-16695beb0399",
   "metadata": {},
   "source": [
    "[<p style=\"text-align: right;\">**⬆ Table of Contents ⬆**</p>](#SQL-Notes)"
   ]
  },
  {
   "cell_type": "markdown",
   "id": "c03fac61-4c71-4960-b1d0-5eb055604f6a",
   "metadata": {
    "tags": []
   },
   "source": [
    "#### <center>Backups</center>"
   ]
  },
  {
   "cell_type": "markdown",
   "id": "64b31dec-8ddb-4f2e-9081-b6fb43eee12b",
   "metadata": {},
   "source": [
    "**Backup Database**  \n",
    "\n",
    "**`BACKUP DATABASE databasename`**  \n",
    "**`TO DISK = 'filepath';`**  \n",
    "* Creates a full back up of an existing SQL database.  \n",
    "* Always back up the database to a different drive than the actual database. Then, if you get a disk crash, you will not lose your backup file along with the database.  \n",
    "\n",
    "**Differential backup**  \n",
    "\n",
    "**`BACKUP DATABASE databasename`**  \n",
    "**`TO DISK = 'filepath'`**  \n",
    "**`WITH DIFFERENTIAL;`**  \n",
    "* Only backs up the parts of the database that have changed since the last full database backup.  \n",
    "* Reduces the back up time.  "
   ]
  },
  {
   "cell_type": "markdown",
   "id": "db85c7cf-8238-4095-9c37-e458cd545f73",
   "metadata": {},
   "source": [
    "[<p style=\"text-align: right;\">**⬆ Table of Contents ⬆**</p>](#SQL-Notes)"
   ]
  },
  {
   "cell_type": "markdown",
   "id": "6bbf25a4-64a7-4f9d-9f3f-72fd477c2f63",
   "metadata": {
    "tags": []
   },
   "source": [
    "#### <center>Tables</center>"
   ]
  },
  {
   "cell_type": "markdown",
   "id": "a7943abe-3c49-4e2c-8c73-a355613d3262",
   "metadata": {},
   "source": [
    "**Create Table**  \n",
    "\n",
    "**`CREATE TABLE table_name (`**  \n",
    "&emsp;&emsp;&emsp;**`column1 datatype constraint,`**  \n",
    "&emsp;&emsp;&emsp;**`column2 datatype constraint,`**  \n",
    "&emsp;&emsp;&emsp;**`column3 datatype constraint,`**  \n",
    "&emsp;&emsp;&emsp;**`....`**  \n",
    "**`);`**  \n",
    "* **Constraints** are **optional**, and can be added or modified with ALTER TABLE.  \n",
    "* When adding a constraint, replace **`constraint`** with required constraint from table below.  \n",
    "\n",
    "**Create table from another table**  \n",
    "\n",
    "**`CREATE TABLE new_table_name AS`**  \n",
    "&emsp;&emsp;&emsp;**`SELECT column1, column2,...`**  \n",
    "&emsp;&emsp;&emsp;**`FROM existing_table_name`**  \n",
    "&emsp;&emsp;&emsp;**`WHERE ....;`**  \n",
    "* New table will be filled with the existing values from the old table.  \n",
    "* Specific columns can be copied into a new table rather than entire table...See SELECT INTO statement.  "
   ]
  },
  {
   "cell_type": "markdown",
   "id": "e952807d-86f5-4ec6-a3aa-5513244cf9e3",
   "metadata": {},
   "source": [
    "**CREATE INDEX statement**  \n",
    "\n",
    "**Duplicates allowed:**  \n",
    "**`CREATE INDEX index_name`**  \n",
    "**`ON table_name (column1, column2, ...);`**  \n",
    "\n",
    "**Unique indexes:**  \n",
    "**`CREATE UNIQUE INDEX index_name`**  \n",
    "**`ON table_name (column1, column2, ...);`**  \n",
    "* Used to create and retrieve data from the database very quickly.  \n",
    "* Users cannot see the indexes, they are just used to **speed up searches/queries**.  \n",
    "* **Updating** a table with indexes **takes <u>more</u> time** than updating a table without (because the indexes also need an update). So, only create indexes on columns that will be frequently searched against.  \n",
    "\n",
    "**DROP INDEX**  \n",
    "\n",
    "**`ALTER TABLE table_name`**  \n",
    "**`DROP INDEX index_name;`**  \n"
   ]
  },
  {
   "cell_type": "markdown",
   "id": "3dec24ee-8fbc-409b-8350-da36c3b4c2c7",
   "metadata": {},
   "source": [
    "**Delete table**  \n",
    "\n",
    "**`DROP TABLE table_name;`**  \n",
    "* **Be careful** before dropping a table. Deleting a table will result in **loss of complete information** stored in the table.  "
   ]
  },
  {
   "cell_type": "markdown",
   "id": "76e55001-7e69-48c5-babb-28c1445026c6",
   "metadata": {},
   "source": [
    "**Clear data in table**  \n",
    "\n",
    "**`TRUNCATE TABLE table_name;`**  \n",
    "* Deletes the data inside a table, but not the table itself.  "
   ]
  },
  {
   "cell_type": "markdown",
   "id": "ebf5c950-aac5-468a-bd21-cd2c1372bc50",
   "metadata": {},
   "source": [
    "**Alter table**  \n",
    "* Used to add, delete, or modify columns in an existing table.  \n",
    "* Also used to add and drop various constraints on an existing table.  \n",
    "\n",
    "**`ALTER TABLE table_name`**  \n",
    "**`ADD column_name datatype constraint;`**  \n",
    "* **Add** a column in a table.  \n",
    "\n",
    "**`ALTER TABLE table_name`**  \n",
    "**`DROP COLUMN column_name;`**  \n",
    "* **Delete** a column in a table.  \n",
    "* Take **caution** when deleting a column.  \n",
    "\n",
    "**`ALTER TABLE table_name`**  \n",
    "**`MODIFY column_name datatype constraint;`**  \n",
    "* **Change datatype**. \n",
    "* Constraints are **optional**, when adding a constraint, replace **`constraint`** with required constraint from table below.  \n",
    "\n",
    "**`ALTER TABLE table_name`**  \n",
    "**`RENAME COLUMN old_column_name`**  \n",
    "**`TO new_column_name;`**  \n",
    "* **Rename column**.  "
   ]
  },
  {
   "cell_type": "markdown",
   "id": "2cce0aef-ce60-40b7-9d96-d6ce2db4f4eb",
   "metadata": {},
   "source": [
    "[<p style=\"text-align: right;\">**⬆ Table of Contents ⬆**</p>](#SQL-Notes)"
   ]
  },
  {
   "cell_type": "markdown",
   "id": "6d0b7f60-2738-48c1-ab10-7140cda80c51",
   "metadata": {},
   "source": [
    "---"
   ]
  },
  {
   "cell_type": "markdown",
   "id": "ee18e787-c109-4af9-bf00-2f3b91843ee7",
   "metadata": {
    "tags": []
   },
   "source": [
    "#### <center>Manipulating tables</center>"
   ]
  },
  {
   "cell_type": "markdown",
   "id": "40762965-933b-47c8-9094-1d67b2095280",
   "metadata": {},
   "source": [
    "**INSERT INTO statement**  \n",
    "\n",
    "**`INSERT INTO table_name (column1, column2, column3, ...)`**  \n",
    "**`VALUES`**  \n",
    "&emsp;&emsp; **`(value1, value2, value3, ...),`** &emsp;&emsp;&emsp; -- **1st new record**   \n",
    "&emsp;&emsp; **`(value1, value2, value3, ...),`** &emsp;&emsp;&emsp; -- **2nd new record**   \n",
    "&emsp;&emsp; **`...`**  \n",
    "**`;`**  \n",
    "* Used to **insert new records** in a table.  \n",
    "* If adding values for **all** the **columns** of the table, you **do not need to specify the column names** in the SQL query. However, make sure the **order of the values** is in the **same order as the columns** in the table.  \n",
    "* Data types must match.  \n",
    "* Note **values not provided for existing columns** will be set to **null**  \n",
    "* **SELECT** statement can be used instead of **`VALUES...`** to copy data from one table and insert into another  \n",
    "* Can use sequences to insert values, e.g. **`VALUES(sequenceName.nextVal, sequenceName.currval)`**  "
   ]
  },
  {
   "cell_type": "markdown",
   "id": "ad4a947f-64d8-4e08-abcc-1fe5d25b577c",
   "metadata": {},
   "source": [
    "**SELECT INTO statement**  \n",
    "\n",
    "**`SELECT column_name(s)`**  \n",
    "**`INTO newtable IN 'externaldb'`**  \n",
    "**`FROM oldtable`**  \n",
    "**`WHERE...(optional)`**  \n",
    "**`;`**  \n",
    "\n",
    "* **`SELECT INTO`** statement **copies data from one table into a new table**.  \n",
    "* **`IN`** clause copies data into a new table in **another database**.  \n",
    "* The new table will be created with the column-names and types as defined in the old table. Create new column names using the AS clause.  \n",
    "* Can be combined with joins to copy data from more than one table into a new single table.  \n",
    "* Can be used to create a new, empty table by adding a WHERE statement that causes the query to return no data, e.g. WHERE 1 = 0;  "
   ]
  },
  {
   "cell_type": "markdown",
   "id": "2d6bff9a-8e61-489c-8660-8725d5e26a30",
   "metadata": {},
   "source": [
    "**UPDATE statement**  \n",
    "\n",
    "**`UPDATE table_name`**  \n",
    "**`SET column1 = value1, column2 = value2, ...`**  \n",
    "**`WHERE condition;`**  &emsp;&emsp;&emsp;&emsp;&emsp;&emsp;&emsp;**DO NOT OMIT, or all records will be updated**  \n",
    "* Used to **modify the existing records** in a table.  \n",
    "* **`WHERE`** clause **specifies** which **record(s) that <ins>should</ins> be updated. If you omit** the WHERE clause, **all records** in the table **will be updated.**  "
   ]
  },
  {
   "cell_type": "markdown",
   "id": "588b6e1f-4f96-4abc-8a37-77804e23e511",
   "metadata": {},
   "source": [
    "**DELETE statement**  \n",
    "\n",
    "**`DELETE FROM table_name`**  \n",
    "**`WHERE condition;`**  &emsp;&emsp;&emsp;&emsp;&emsp;&emsp;&emsp;**DO NOT OMIT, or all records will be updated**  \n",
    "* Used to **delete existing records** in a table.  \n",
    "* **`WHERE`** clause **specifies** which **record(s) that <ins>should</ins> be updated. If you omit** the WHERE clause, **all records** in the table **will be updated.**  "
   ]
  },
  {
   "cell_type": "markdown",
   "id": "f314cbcd-a752-49dd-b8c4-05d89394b848",
   "metadata": {},
   "source": [
    "**DELETE ALL records**  \n",
    "\n",
    "**`DELETE FROM table_name;`**  \n",
    "* Deletes **all rows** in a table **without deleting the table.** This means that the table structure, attributes, and indexes will be intact.  "
   ]
  },
  {
   "cell_type": "markdown",
   "id": "9d7ef746-8b3e-4264-bc8f-29f7b00f954e",
   "metadata": {},
   "source": [
    "[<p style=\"text-align: right;\">**⬆ Table of Contents ⬆**</p>](#SQL-Notes)"
   ]
  },
  {
   "cell_type": "markdown",
   "id": "dce2f780-dfb2-45d6-83f3-df57910067af",
   "metadata": {},
   "source": [
    "---"
   ]
  },
  {
   "cell_type": "markdown",
   "id": "dddce394-0fb0-427d-b99d-597a1576beda",
   "metadata": {},
   "source": [
    "#### <center>Views</center>"
   ]
  },
  {
   "cell_type": "markdown",
   "id": "11d13e24-4de3-4ab9-b2d9-4c685e67bc92",
   "metadata": {},
   "source": [
    "* A view is a virtual table based on the result-set of an SQL statement.  \n",
    "* Think of a view as a stored query which is run whenever the view is accessed.  \n",
    "* A view contains rows and columns, just like a real table. The fields in a view are fields from one or more real tables in the database.  \n",
    "* You can add SQL statements and functions to a view and present the data as if the data were coming from one single table.  \n",
    "\n",
    "**CREATE VIEW**  \n",
    "\n",
    "**`CREATE VIEW [view_name] AS`**  \n",
    "**`SELECT column1, column2, ...`**  \n",
    "**`FROM table_name`**  \n",
    "**`WHERE condition;`**  \n",
    "* Note **`view_name`** is in **square brackets**  \n",
    "\n",
    "**Query view**  \n",
    "\n",
    "**`SELECT * FROM [view_name];`**  \n",
    "\n",
    "**Update view**  \n",
    "\n",
    "**`CREATE OR REPLACE VIEW view_name AS`**  \n",
    "**`SELECT column1, column2, ...`**  \n",
    "**`FROM table_name`**  \n",
    "**`WHERE condition;`**  \n",
    "\n",
    "**DROP VIEW**  \n",
    "\n",
    "**`DROP VIEW view_name;`**  "
   ]
  },
  {
   "cell_type": "markdown",
   "id": "d74de305-44b2-495a-8f6e-4dd430b7ca46",
   "metadata": {},
   "source": [
    "[<p style=\"text-align: right;\">**⬆ Table of Contents ⬆**</p>](#SQL-Notes)"
   ]
  },
  {
   "cell_type": "markdown",
   "id": "0309a80b-28ab-4e0e-a2db-1e71f2475436",
   "metadata": {},
   "source": [
    "---"
   ]
  },
  {
   "cell_type": "markdown",
   "id": "b8b4539c-5964-4e76-9062-3eea1eccb2fe",
   "metadata": {
    "tags": []
   },
   "source": [
    "#### <center>Constraints</center>"
   ]
  },
  {
   "cell_type": "markdown",
   "id": "84ba454b-3b0c-4fb9-a1a6-9302915a544c",
   "metadata": {},
   "source": [
    "* Used to specify rules for and limit the data that can go into a table.  \n",
    "* Action is aborted if any violation of the rules.  \n",
    "* Constraints can be **column level or table level**.  \n",
    "\n",
    "**`CREATE TABLE table_name (`**  \n",
    "&emsp;&emsp;&emsp;**`column1 datatype constraintType constraintType,`** &emsp;&emsp;**-- Implementation `[1]` (Contraint NOT named & Single columun)**  \n",
    "&emsp;&emsp;&emsp;**`column2 datatype constraintType,`** &emsp;&emsp;&emsp;&emsp;&emsp;&emsp;&emsp;&emsp;&emsp;&emsp; **-- Implementation `[1]` (Contraint NOT named & Single columun)**  \n",
    "&emsp;&emsp;&emsp;**`constraintType(column_name1, column_name2...)`**  &emsp;&emsp;&emsp; **-- Implementation `[2]` (Contraint NOT named & Multiple columun)**  \n",
    "&emsp;&emsp;&emsp;**`CONSTRAINT constraintName constraintType(column_name1, column_name2...)`**  &emsp;&emsp;**-- Implementation `[3]` (Contraint <u>named</u> & Multiple columun)**  \n",
    "&emsp;&emsp;&emsp;**`CONSTRAINT constraintType(column_name1, column_name2...)`**  &emsp;&emsp;**-- Implementation `[4]` (Contraint NOT named & Multiple columun)**  \n",
    "&emsp;&emsp;&emsp;**`PRIMARY KEY (column_name)`**  \n",
    "&emsp;&emsp;&emsp;**`FOREIGN KEY (column_name)`**  \n",
    "&emsp;&emsp;&emsp;&emsp;&emsp;**`REFERENCES parent_tableName(columnName)`**  \n",
    "&emsp;&emsp;&emsp;&emsp;&emsp;**`ON UPDATE reference_option`**  &emsp;&emsp;&emsp;&emsp;&emsp;&emsp;&emsp;&emsp;&emsp;&emsp;&emsp;&ensp; **-- optional, defaults to RESTRICT if not provided**  \n",
    "&emsp;&emsp;&emsp;&emsp;&emsp;**`ON DELETE reference_option`**  &emsp;&emsp;&emsp;&emsp;&emsp;&emsp;&emsp;&emsp;&emsp;&emsp;&emsp;&ensp; **-- optional, defaults to RESTRICT if not provided**  \n",
    "**`);`**\n",
    "* Note when **more than one** constraint on a **single column `[1]`**, these are **NOT separated by a comma**.  \n",
    "* Multi column constraints are defined after keyword **`CONSTRAINT`** followed by constraint name, then column list in parentheses. When no constraint name given for constrain types **UNIQUE, PRIMARY KEY, FOREIGN KEY, CHECK**, one will be automatically generated.  \n",
    "\n",
    "|Reference Option|Description|\n",
    "|:---|:---|\n",
    "|CASCADE|If a row from the parent table is deleted or updated, the values of the matching rows in the child table automatically deleted or updated|\n",
    "|SET NULL|If a row from the parent table is deleted or updated, the values of the foreign key column (or columns) in the child table are set to NULL|\n",
    "|RESTRICT<br>(default when none given)|If a row from the parent table has a matching row in the child table, MySQL rejects deleting or updating rows in the parent table.<br>Constraint rules are checked before any other operation|\n",
    "|NO ACTION|Similar to RESTRICT, however constraint rules are checked after the statement and all other operations (such as triggers) are completed|\n",
    "|SET DEFAULT|Sets the rows in the child table to their default values if the corresponding rows in the parent table are deleted.<br>To execute this action, the foreign key columns must have default definitions.<br>Note that a nullable column has a default value of (NULL) if no default value specified|\n",
    "\n",
    "**`ALTER TABLE table_name`**  \n",
    "**`implementation(see table);`** \n",
    "\n",
    "**Display indexes**  \n",
    "**`SHOW INDEX FROM table_name;`**  \n",
    "* `Key_name` in return refers to constraint names.  \n",
    "\n",
    "|**ConstraintType**|**Description**|**Implementation**|\n",
    "|:---|:---|:---|\n",
    "|**NOT NULL**|Ensures that a column cannot have a NULL value<br>Allows NULL values by default|CREATE -- `[1]` **only**<br>ALTER -- `MODIFY column_name datatype NOT NULL;`<br>Drop using modify without NOT NULL|\n",
    "|**UNIQUE**|Ensures that all values in a column are different<br>Can have many UNIQUE constraints per table|CREATE -- `[1]` **single unique column**<br>&emsp;&emsp;&emsp;&emsp;&ensp;`[2]`/`[3]`/`[4]` **multiple unique columns, named/not named**<br>A name (key) will be auto generated if none given<br>ALTER -- `ADD CONSTRAINT constraint_name UNIQUE (column_list);` **add unique**<br>ALTER -- `DROP INDEX constraint_name;` **drop unique**|\n",
    "|**PRIMARY KEY**|A combination of a NOT NULL and UNIQUE.<br>Uniquely identifies each row in a table<br>Can only have **ONE** PRIMARY KEY column per table<br>Can consist of single or multiple columns (fields)<br>**Should** be included in **every** table<br>Table containing PK = parent table|CREATE -- `PRIMARY KEY (column_name)` **single column**<br>CREATE -- `[3]`/`[4]` **named and/or PK consists of multiple columns**<br>A name (key) will be auto generated if none given<br>ALTER -- `ADD .. same as CREATE options` **add primary key**<br>ALTER -- `DROP PRIMARY KEY;` **drop primary key**|\n",
    "|**FOREIGN KEY**|Prevents actions that would destroy links between tables<br>A field (or collection of fields) in one table, that refers to the PRIMARY KEY in another table<br>Table containing FK = child table<br>Always at **many** end of entity relationship<br>**Can** have **more than one** foreign key, **one representing each relationship** pointing back to each parent primary key<br>**Can** have a **different name** to that of **parent primary key**|CREATE -- `FOREIGN KEY (column_name)` **single column**<br>&emsp;&emsp;&emsp;&emsp;&ensp; `REFERENCES parent_tableName(columnName)`<br>&emsp;&emsp;&emsp;&emsp;&emsp;&emsp;&emsp;`ON UPDATE reference_option` **optional**<br>&emsp;&emsp;&emsp;&emsp;&emsp;&emsp;&emsp;`ON DELETE reference_option` **optional**<br>CREATE -- `[3]`/`[4]` **named and/or FK consists of multiple columns**<br>&emsp;&emsp;&emsp;&emsp;&ensp; `REFERENCES parent_tableName(columnName)`<br>&emsp;&emsp;&emsp;&emsp;&emsp;&emsp;&emsp;`ON UPDATE reference_option` **optional**<br>&emsp;&emsp;&emsp;&emsp;&emsp;&emsp;&emsp;`ON DELETE reference_option` **optional**<br>**Can also be added after each column:**<br>&emsp;&emsp;&emsp;&emsp;`column_name datatype REFERENCES parent_tableName(columnName)`<br><br>ALTER -- `ADD .. same as CREATE options` **add foreign key**<br>ALTER -- `DROP FOREIGN KEY foreign_key_name;` **drop foreign key**|\n",
    "|**CHECK**|Ensures that the values in a column satisfies a specific condition|CREATE -- `[1] (condition)` **not named**<br>CREATE -- CONSTRAINT constraintName CHECK (condition) **named**<br>A name (key) will be auto generated if none given<br>If **condition involves 2 or more columns**, use format `[2]` or `[3]`<br><br>ALTER -- `ADD .. same as CREATE options` **add check**<br>ALTER -- `DROP CONSTRAINT constraint_name;` **drop check**|\n",
    "|**DEFAULT**|Sets a default value for a column if no value is specified which will be added to all new records, if no other value is specified.<br>When foreign key reference option `SET DEFAULT` is present, default values will be set for rows in child table when corresponding rows in parent table are deleted/updated (dependent on reference option)|CREATE -- `[1]` **only**<br>ALTER -- `ALTER column_name SET DEFAULT default_value;` **add default**<br>ALTER -- `ALTER column_name DROP DEFAULT;` **drop default**<br><br>`default_value` must be a literal constant, e.g., a number or a string. It **cannot be** a **function** or an **expression**. MySQL allows you to set the current date and time `CURRENT_TIMESTAMP` to the TIMESTAMP and DATETIME columns.<br>When you define a column without the NOT NULL constraint, the column will implicitly take NULL as the default value|\n",
    "|**AUTO_INCREMENT**|Allows a unique number to be generated automatically when a new record is inserted into a table.<br>Often this is the primary key field that we would like to be created automatically every time a new record is inserted|CREATE -- `[1]` **only**<br>ALTER -- `MODIFY column_name datatype AUTO_INCREMENT;`<br>Drop using modify without AUTO_INCREMENT<br><br>**Each table** has **only one** AUTO_INCREMENT column<br>Column **must** have a **NOT NULL** constraint<br>By **default**, the **starting value** for AUTO_INCREMENT is **1**, and it will increment by 1 for each new record<br>Set a different start value with `AUTO_INCREMENT=new_value;`|"
   ]
  },
  {
   "cell_type": "markdown",
   "id": "59736fd1-38c5-4c5b-b68b-f7545c6bc4d5",
   "metadata": {},
   "source": [
    "[<p style=\"text-align: right;\">**⬆ Table of Contents ⬆**</p>](#SQL-Notes)"
   ]
  },
  {
   "cell_type": "markdown",
   "id": "35854045-1972-44a8-beae-ad34cb95b49a",
   "metadata": {},
   "source": [
    "---"
   ]
  },
  {
   "cell_type": "markdown",
   "id": "19307b93-9155-496c-ac8a-01e32fcd98dd",
   "metadata": {},
   "source": [
    "### <center>DCL</center>"
   ]
  },
  {
   "cell_type": "markdown",
   "id": "9957d875-5634-4b30-8d1f-f364e824c7e5",
   "metadata": {},
   "source": [
    "Data Control Language  \n",
    "- Allows users access  \n",
    "- You can set permissions so that different users have different levels of access  "
   ]
  },
  {
   "cell_type": "markdown",
   "id": "2bbaefcd-2bbc-4885-a7cf-7c5f8f42f8b5",
   "metadata": {},
   "source": [
    "**GRANT statement**  \n",
    "\n",
    "**`GRANT privilege_name`**  \n",
    "**`ON object_name`**   \n",
    "**`TO {user_name |PUBLIC |role_name}`**  \n",
    "**`[WITH GRANT OPTION];`**  \n",
    "* See details below REVOKE statement.  \n",
    "\n",
    "**REVOKE statement**  \n",
    "**`REVOKE privilege_name`**   \n",
    "**`ON object_name`**  \n",
    "**`FROM {user_name |PUBLIC |role_name}`**  \n",
    "\n",
    "\n",
    "* **`privilege_name`** is the access right or privilege granted to the user. Some of the access rights are ALL, EXECUTE, and SELECT.  \n",
    "* **`object_name`** is the name of an database object like TABLE, VIEW, STORED PROC and SEQUENCE.  \n",
    "* **`user_name`** is the name of the user to whom an access right is being granted.  \n",
    "* **`PUBLIC`** is used to grant access rights to all users.  \n",
    "* ROLES are a set of privileges grouped together.  \n",
    "* **`WITH GRANT OPTION`** - allows a user to grant access rights to other users.  "
   ]
  },
  {
   "cell_type": "markdown",
   "id": "fb568934-1fa1-413e-bec5-6b1854cd2ef1",
   "metadata": {},
   "source": [
    "---"
   ]
  },
  {
   "cell_type": "markdown",
   "id": "e39f9563-e30d-4fbc-af8a-acee2c3a0515",
   "metadata": {},
   "source": [
    "---"
   ]
  },
  {
   "cell_type": "markdown",
   "id": "a34d6aa7-885d-4979-a714-3c74331e62f7",
   "metadata": {},
   "source": [
    "### <center>Data Types</center>"
   ]
  },
  {
   "cell_type": "markdown",
   "id": "beff376b-9900-4f05-99e2-d66130fb114d",
   "metadata": {},
   "source": [
    "**String data types**  \n",
    "\n",
    "|**Data type**|**Description**|\n",
    "|:---|:---|\n",
    "|CHAR(size)|A FIXED length string (can contain letters, numbers, and special characters). The size parameter specifies the column length in characters - can be from 0 to 255. Default is 1|\n",
    "|NCHAR(size)|Fixed length with maximum length of 4,000 characters - Not supported in MySQL|\n",
    "|VARCHAR(size)|A VARIABLE length string (can contain letters, numbers, and special characters). The size parameter specifies the maximum column length in characters - can be from 0 to 65535|\n",
    "|NVARCHAR(size)|Variable-length storage with a maximum length of 4,000 characters - Not supported in MySQL|\n",
    "|BINARY(size)|Equal to CHAR(), but stores binary byte strings. The size parameter specifies the column length in bytes. Default is 1|\n",
    "|VARBINARY(size)|Equal to VARCHAR(), but stores binary byte strings. The size parameter specifies the maximum column length in bytes.|\n",
    "|TINYBLOB|For BLOBs (Binary Large OBjects). Max length: 255 bytes|\n",
    "|TINYTEXT|Holds a string with a maximum length of 255 characters|\n",
    "|TEXT(size)|Holds a string with a maximum length of 65,535 bytes|\n",
    "|NTEXT|Variable-length storage with a maximum size of 1GB data - Not supported in MySQL|\n",
    "|BLOB(size)|For BLOBs (Binary Large OBjects). Holds up to 65,535 bytes of data|\n",
    "|MEDIUMTEXT|Holds a string with a maximum length of 16,777,215 characters|\n",
    "|MEDIUMBLOB|For BLOBs (Binary Large OBjects). Holds up to 16,777,215 bytes of data|\n",
    "|LONGTEXT|Holds a string with a maximum length of 4,294,967,295 characters|\n",
    "|LONGBLOB|For BLOBs (Binary Large OBjects). Holds up to 4,294,967,295 bytes of data|\n",
    "|ENUM(val1,val2,val3,...)|A string object that can have only one value, chosen from a list of possible values. You can list up to 65535 values in an ENUM list. If a value is inserted that is not in the list, a blank value will be inserted. The values are sorted in the order you enter them|\n",
    "|SET(val1,val2,val3,...)|A string object that can have 0 or more values, chosen from a list of possible values. You can list up to 64 values in a SET list|\n",
    "|IMAGE|Variable-length storage with maximum size of 2GB binary data|\n",
    "|XML|For storing XML data|\n",
    "|JSON|For storing JSON data|"
   ]
  },
  {
   "cell_type": "markdown",
   "id": "2ea16cbc-868d-4596-bb7c-6407c878f244",
   "metadata": {},
   "source": [
    "**Numeric data types**  \n",
    "* All the numeric data types may have an extra option: UNSIGNED or ZEROFILL. If you add the UNSIGNED option, MySQL disallows negative values for the column. If you add the ZEROFILL option, MySQL automatically also adds the UNSIGNED attribute to the column.  \n",
    "* d in table represents number of decimal points.  \n",
    "|**Data type**|**Description**|\n",
    "|:---|:---|\n",
    "|BIT(size)|A bit-value type. The number of bits per value is specified in size. The size parameter can hold a value from 1 to 64. The default value for size is 1.|\n",
    "|TINYINT(size)|A very small integer. Signed range is from -128 to 127. Unsigned range is from 0 to 255. The size parameter specifies the maximum display width (which is 255)|\n",
    "|BOOL&emsp;&emsp;&emsp;&emsp;&emsp;&emsp;&emsp;&emsp;&emsp;&emsp;|Zero is considered as false, nonzero values are considered as true.|\n",
    "|BOOLEAN|Equal to BOOL|\n",
    "|SMALLINT(size)|A small integer. Signed range is from -32768 to 32767. Unsigned range is from 0 to 65535. The size parameter specifies the maximum display width (which is 255)|\n",
    "|MEDIUMINT(size)|A medium integer. Signed range is from -8388608 to 8388607. Unsigned range is from 0 to 16777215. The size parameter specifies the maximum display width (which is 255)|\n",
    "|INT(size)|A medium integer. Signed range is from -2147483648 to 2147483647. Unsigned range is from 0 to 4294967295. The size parameter specifies the maximum display width (which is 255)|\n",
    "|INTEGER(size)|Equal to INT(size)|\n",
    "|BIGINT(size)|A large integer. Signed range is from -9223372036854775808 to 9223372036854775807. Unsigned range is from 0 to 18446744073709551615. The size parameter specifies the maximum display width (which is 255)|\n",
    "|FLOAT(size, d)|A floating point number. The total number of digits is specified in size. The number of digits after the decimal point is specified in the d parameter. This syntax is deprecated in MySQL 8.0.17, and it will be removed in future MySQL versions|\n",
    "|FLOAT(p)|A floating point number. MySQL uses the p value to determine whether to use FLOAT or DOUBLE for the resulting data type. If p is from 0 to 24, the data type becomes FLOAT(). If p is from 25 to 53, the data type becomes DOUBLE()|\n",
    "|DOUBLE(size, d)|A normal-size floating point number. The total number of digits is specified in size. The number of digits after the decimal point is specified in the d parameter|\n",
    "|DOUBLE PRECISION(size, d)||\n",
    "|DECIMAL(size, d)|An exact fixed-point number. The total number of digits is specified in size. The number of digits after the decimal point is specified in the d parameter. The maximum number for size is 65. The maximum number for d is 30. The default value for size is 10. The default value for d is 0.|\n",
    "|DEC(size, d)|Equal to DECIMAL(size,d)|\n",
    "|NUMERIC(p,s)|Fixed precision and scale numbers.<br>Allows numbers from -10^38 +1 to 10^38 –1.<br>The p parameter indicates the maximum total number of digits that can be stored (both to the left and to the right of the decimal point). p must be a value from 1 to 38. Default is 18.<br>The s parameter indicates the maximum number of digits stored to the right of the decimal point. s must be a value from 0 to p. Default value is 0|\n",
    "|smallmoney|Monetary data from -214,748.3648 to 214,748.3647|\n",
    "|money|Monetary data from -922,337,203,685,477.5808 to 922,337,203,685,477.5807|\n",
    "|real|Floating precision number data from -3.40E + 38 to 3.40E + 38|"
   ]
  },
  {
   "cell_type": "markdown",
   "id": "b26ea5e8-7a2d-4bc2-9a6b-1ddeb4eb33e8",
   "metadata": {},
   "source": [
    "**Date and Time Data Types**  \n",
    "\n",
    "|**Data type**|**Description**|\n",
    "|:---|:---|\n",
    "|DATE|A date. Format: **YYYY-MM-DD**. The supported **range is from '1000-01-01' to '9999-12-31'**|\n",
    "|DATETIME(fsp)|A date and time combination. Format: **YYYY-MM-DD hh:mm:ss**. The supported **range is from '1000-01-01 00:00:00' to '9999-12-31 23:59:59'**. Adding DEFAULT and ON UPDATE in the column definition to get automatic initialization and updating to the current date and time|\n",
    "|TIMESTAMP(fsp)|A timestamp. TIMESTAMP values are stored as the number of seconds since the Unix epoch ('1970-01-01 00:00:00' UTC). Format: **YYYY-MM-DD hh:mm:ss**. The supported **range is from '1970-01-01 00:00:01' UTC to '2038-01-09 03:14:07' UTC**. Automatic initialization and updating to the current date and time can be specified using DEFAULT CURRENT_TIMESTAMP and ON UPDATE CURRENT_TIMESTAMP in the column definition|\n",
    "|TIME(fsp)|A time. Format: **hh:mm:ss**. The supported **range is from '-838:59:59' to '838:59:59'**|\n",
    "|YEAR|A year in **four-digit format**. Values allowed in four-digit format: **1901 to 2155, and 0000**. MySQL 8.0 does not support year in two-digit format.|"
   ]
  },
  {
   "cell_type": "markdown",
   "id": "09e878dc-6ed6-4029-8e24-63c85647be42",
   "metadata": {},
   "source": [
    "[<p style=\"text-align: right;\">**⬆ Table of Contents ⬆**</p>](#SQL-Notes)"
   ]
  },
  {
   "cell_type": "markdown",
   "id": "3d58aa10-feeb-4dd9-8569-6fe75669139c",
   "metadata": {},
   "source": [
    "---"
   ]
  },
  {
   "cell_type": "markdown",
   "id": "0f6f8e1d-78fd-4415-9954-feee49464b41",
   "metadata": {},
   "source": []
  },
  {
   "cell_type": "markdown",
   "id": "e4aa6057-10fb-4033-aeaa-643a3b4d38e1",
   "metadata": {},
   "source": []
  },
  {
   "cell_type": "markdown",
   "id": "90544b79-f838-49c4-a75a-eeb5b28c4764",
   "metadata": {},
   "source": []
  },
  {
   "cell_type": "markdown",
   "id": "1812b9c0-8267-4f41-8cdf-eb15a2dda37c",
   "metadata": {},
   "source": []
  },
  {
   "cell_type": "markdown",
   "id": "7603ba49-a971-46df-a308-9ccbfd1a5245",
   "metadata": {},
   "source": []
  }
 ],
 "metadata": {
  "kernelspec": {
   "display_name": "Python 3 (ipykernel)",
   "language": "python",
   "name": "python3"
  },
  "language_info": {
   "codemirror_mode": {
    "name": "ipython",
    "version": 3
   },
   "file_extension": ".py",
   "mimetype": "text/x-python",
   "name": "python",
   "nbconvert_exporter": "python",
   "pygments_lexer": "ipython3",
   "version": "3.9.7"
  }
 },
 "nbformat": 4,
 "nbformat_minor": 5
}
